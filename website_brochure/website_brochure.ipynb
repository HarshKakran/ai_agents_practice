{
 "cells": [
  {
   "cell_type": "code",
   "execution_count": null,
   "id": "6dc7c05b",
   "metadata": {},
   "outputs": [],
   "source": [
    "import os \n",
    "import json \n",
    "import ollama\n",
    "import requests\n",
    "from google import genai\n",
    "from google.genai import types\n",
    "from openai import OpenAI\n",
    "from dotenv import load_dotenv\n",
    "from bs4 import BeautifulSoup\n",
    "from IPython.display import display, Markdown, update_display"
   ]
  },
  {
   "cell_type": "code",
   "execution_count": null,
   "id": "c30b0386",
   "metadata": {},
   "outputs": [],
   "source": [
    "load_dotenv(override=True)\n",
    "openai_api_key = os.getenv('OPENAI_API_KEY')\n",
    "gemini_api_key = os.getenv('GEMINI_API_KEY')\n",
    "\n",
    "OPENAI_MODEL = 'gpt-4o-mini'\n",
    "GEMINI_MODEL = 'gemini-2.0-flash' \n",
    "OLLAMA_MODEL = 'llama3.2'\n",
    "\n",
    "openai = OpenAI()\n",
    "gemini = genai.Client(api_key = gemini_api_key)"
   ]
  },
  {
   "cell_type": "code",
   "execution_count": null,
   "id": "3e4629ea",
   "metadata": {},
   "outputs": [],
   "source": [
    "headers = {\n",
    " \"User-Agent\": \"Mozilla/5.0 (Windows NT 10.0; Win64; x64) AppleWebKit/537.36 (KHTML, like Gecko) Chrome/117.0.0.0 Safari/537.36\"\n",
    "}\n",
    "\n",
    "\n",
    "class Website:\n",
    "    \"\"\"\n",
    "    A utility class to represent a Website that we have scraped, now with links\n",
    "    \"\"\"\n",
    "\n",
    "    def __init__(self, url):\n",
    "        self.url = url \n",
    "        response = requests.get(url=self.url, headers=headers)\n",
    "        self.body = response.content    \n",
    "        soup = BeautifulSoup(self.body, 'html.parser')\n",
    "        self.title = soup.title.string if soup.title else \"No title found\"\n",
    "        if soup.body:\n",
    "            for irrelevant in soup.body(['script', 'style', 'img', 'input']):\n",
    "                irrelevant.decompose\n",
    "            self.text = soup.body.get_text(separator=\"\\n\", strip=True)\n",
    "        else:\n",
    "            self.text = \"\" \n",
    "        links = [link.get('href') for link in soup.find_all('a')]\n",
    "        self.links = [link for link in links if link]\n",
    "\n",
    "    def get_content(self):\n",
    "        return f\"Webpage Title:\\n{self.title}\\nWebpage Contents:\\n{self.text}\\n\\n\"\n",
    "        \n"
   ]
  },
  {
   "cell_type": "code",
   "execution_count": null,
   "id": "64799c24",
   "metadata": {},
   "outputs": [],
   "source": [
    "hk = Website(\"https://harshkakran.netlify.app/\")\n",
    "print(hk.get_content())\n",
    "\n",
    "hk.links "
   ]
  },
  {
   "cell_type": "markdown",
   "id": "00fbd8a5",
   "metadata": {},
   "source": [
    "### Call a LLM that will filter out all the relevant links from the list of scraped links"
   ]
  },
  {
   "cell_type": "code",
   "execution_count": null,
   "id": "c82f63e9",
   "metadata": {},
   "outputs": [],
   "source": [
    "link_system_prompt = \"You are provided with a list of links found on a webpage. \\\n",
    "You are able to decide which of the links would be most relevant to include in a brochure about the company, \\\n",
    "such as links to an About page, or a Company page, or Careers/Jobs pages.\\n\"\n",
    "link_system_prompt += \"You should respond in JSON as in this example:\"\n",
    "link_system_prompt += \"\"\"\n",
    "{\n",
    "    \"links\": [\n",
    "        {\"type\": \"about page\", \"url\": \"https://full.url/goes/here/about\"},\n",
    "        {\"type\": \"careers page\": \"url\": \"https://another.full.url/careers\"}\n",
    "    ]\n",
    "}\n",
    "\"\"\""
   ]
  },
  {
   "cell_type": "code",
   "execution_count": null,
   "id": "dbe47004",
   "metadata": {},
   "outputs": [],
   "source": [
    "def get_links_user_prompt(website):\n",
    "    user_prompt = f\"Here is the list of links on the website of {website.url} - \"\n",
    "    user_prompt += \"please decide which of these are relevant web links for a brochure about the company, respond with the full https URL in JSON format. \\\n",
    "Do not include Terms of Service, Privacy, email links.\\n\"\n",
    "    user_prompt += \"Links (some might be relative links):\\n\"\n",
    "    user_prompt += \"\\n\".join(website.links)\n",
    "    return user_prompt"
   ]
  },
  {
   "cell_type": "code",
   "execution_count": null,
   "id": "4fbfd675",
   "metadata": {},
   "outputs": [],
   "source": [
    "print(get_links_user_prompt(hk))"
   ]
  },
  {
   "cell_type": "code",
   "execution_count": null,
   "id": "1a0a3da8",
   "metadata": {},
   "outputs": [],
   "source": [
    "def get_links_open_ai(website:Website):\n",
    "    try:\n",
    "        response = openai.chat.completions.create(\n",
    "            model=OPENAI_MODEL,\n",
    "            messages=[\n",
    "                {\"role\":\"system\", \"content\": link_system_prompt},\n",
    "                {\"role\":\"user\", \"content\": get_links_user_prompt(website)}\n",
    "            ],\n",
    "            response_format={\"type\": \"json_object\"}\n",
    "        )\n",
    "\n",
    "        result = response.choices[0].message.content\n",
    "        return json.loads(result)\n",
    "    except Exception as e:\n",
    "        print(f\"An error occurred during the API call: {e}\")\n",
    "        return None"
   ]
  },
  {
   "cell_type": "code",
   "execution_count": null,
   "id": "3aee1e84",
   "metadata": {},
   "outputs": [],
   "source": [
    "def get_links_gemini(website:Website):\n",
    "    try:\n",
    "        response = gemini.models.generate_content(\n",
    "            model=GEMINI_MODEL,\n",
    "            config=types.GenerateContentConfig(\n",
    "                system_instruction=link_system_prompt,\n",
    "                response_mime_type=\"application/json\"\n",
    "            ),\n",
    "            contents=get_links_user_prompt(website)\n",
    "        )\n",
    "\n",
    "        result = response.text\n",
    "        return json.loads(result)\n",
    "    except Exception as e:\n",
    "        print(f\"An error occurred during the API call: {e}\")\n",
    "        return None"
   ]
  },
  {
   "cell_type": "code",
   "execution_count": null,
   "id": "b49188b3",
   "metadata": {},
   "outputs": [],
   "source": [
    "def get_links_ollama(website: Website, model:str):\n",
    "    model_to_use = model if model else OLLAMA_MODEL\n",
    "\n",
    "    print(f\"Using model: {model_to_use}\\n\\n\")\n",
    "\n",
    "    try:\n",
    "        response = ollama.chat(\n",
    "            model=model_to_use, \n",
    "            messages=[\n",
    "            {\"role\":\"system\", \"content\": link_system_prompt},\n",
    "            {\"role\": \"user\", \"content\": get_links_user_prompt(website)}\n",
    "            ],\n",
    "            format='json')\n",
    "        \n",
    "        result = response['message']['content']\n",
    "        return json.loads(result)\n",
    "    except Exception as e:\n",
    "        print(f\"An error occurred during the API call: {e}\")\n",
    "        return None"
   ]
  },
  {
   "cell_type": "code",
   "execution_count": null,
   "id": "218fdbbc",
   "metadata": {},
   "outputs": [],
   "source": [
    "huggingface = Website(\"https://huggingface.co\")\n",
    "huggingface.links"
   ]
  },
  {
   "cell_type": "code",
   "execution_count": null,
   "id": "dd524cf2",
   "metadata": {},
   "outputs": [],
   "source": [
    "get_links_gemini(huggingface)"
   ]
  },
  {
   "cell_type": "code",
   "execution_count": null,
   "id": "58ac3f9a",
   "metadata": {},
   "outputs": [],
   "source": [
    "get_links_ollama(huggingface, \"\")"
   ]
  },
  {
   "cell_type": "code",
   "execution_count": null,
   "id": "cadec153",
   "metadata": {},
   "outputs": [],
   "source": [
    "get_links_open_ai(huggingface)"
   ]
  },
  {
   "cell_type": "markdown",
   "id": "9ead536b",
   "metadata": {},
   "source": [
    "## Make the brochure"
   ]
  },
  {
   "cell_type": "code",
   "execution_count": null,
   "id": "e1ce9bf0",
   "metadata": {},
   "outputs": [],
   "source": [
    "def get_all_details(website: Website, source: str, model: str):\n",
    "    \"\"\"\n",
    "    Scrap all the relevate links for the brochure.\n",
    "    \"\"\"\n",
    "\n",
    "    result = \"Landing page:\\n\"\n",
    "    result += website.get_content()\n",
    "    \n",
    "    links = {}\n",
    "    if source == \"ollama\":\n",
    "        links = get_links_ollama(website=website, model=model)\n",
    "    elif source == \"gemini\":\n",
    "        links = get_links_gemini(website=website)\n",
    "    elif source == \"openai\":\n",
    "        links = get_links_open_ai(website=website)\n",
    "    \n",
    "    for link in links[\"links\"]:\n",
    "        result += f\"\\n\\n{link['type']}\\n\"\n",
    "        result += Website(link['url']).get_content()\n",
    "\n",
    "    return result"
   ]
  },
  {
   "cell_type": "code",
   "execution_count": null,
   "id": "a27fe77f",
   "metadata": {},
   "outputs": [],
   "source": [
    "print(get_all_details(huggingface, \"openai\", \"\"))"
   ]
  },
  {
   "cell_type": "code",
   "execution_count": null,
   "id": "7920c9f8",
   "metadata": {},
   "outputs": [],
   "source": [
    "system_prompt = \"You are an assistant that analyzes the contents of several relevant pages from a company website \\\n",
    "and creates a short humorous, entertaining, jokey brochure about the company for prospective customers, investors and recruits. Respond in markdown.\\\n",
    "Include details of company culture, customers and careers/jobs if you have the information.\""
   ]
  },
  {
   "cell_type": "code",
   "execution_count": null,
   "id": "e3f61ac9",
   "metadata": {},
   "outputs": [],
   "source": [
    "def get_brochure_user_prompt(company_name: str, website: Website, source: str, model: str):\n",
    "    user_prompt = f\"You are looking at a company called: {company_name}\\n\"\n",
    "    user_prompt += f\"Here are the contents of its landing page and other relevant pages; use this information to build a short brochure of the company in markdown.\\n\"\n",
    "    user_prompt += get_all_details(website, source=source, model=model)\n",
    "    user_prompt = user_prompt[:5_000] # Truncate if more than 5,000 characters\n",
    "    return user_prompt"
   ]
  },
  {
   "cell_type": "code",
   "execution_count": null,
   "id": "bd549851",
   "metadata": {},
   "outputs": [],
   "source": [
    "print(get_brochure_user_prompt(\"Hugging Face\", huggingface,\"gemini\",\"\"))"
   ]
  },
  {
   "cell_type": "code",
   "execution_count": null,
   "id": "a8e3093e",
   "metadata": {},
   "outputs": [],
   "source": [
    "def create_brochure(company_name: str, source: str, model: str, website: Website):\n",
    "    if source == 'ollama':\n",
    "        model_to_use = model if model else OLLAMA_MODEL\n",
    "\n",
    "        print(f\"Using model: {model_to_use}\\n\\n\")\n",
    "\n",
    "        try:\n",
    "            response = ollama.chat(\n",
    "                model=model_to_use, \n",
    "                messages=[\n",
    "                    {\"role\":\"system\", \"content\": system_prompt},\n",
    "                    {\"role\": \"user\", \"content\": get_brochure_user_prompt(company_name, website, source, model)}\n",
    "                ],\n",
    "            )\n",
    "            \n",
    "            result = response['message']['content']\n",
    "            return result\n",
    "        except Exception as e:\n",
    "            print(f\"An error occurred during the API call: {e}\")\n",
    "            return None\n",
    "    elif source == 'openai':\n",
    "        try:\n",
    "            response = openai.chat.completions.create(\n",
    "                model=OPENAI_MODEL,\n",
    "                messages=[\n",
    "                    {\"role\":\"system\", \"content\": system_prompt},\n",
    "                    {\"role\":\"user\", \"content\": get_brochure_user_prompt(company_name, website, source, model)}\n",
    "                ],\n",
    "                \n",
    "            )\n",
    "\n",
    "            result = response.choices[0].message.content\n",
    "            return result\n",
    "        except Exception as e:\n",
    "            print(f\"An error occurred during the API call: {e}\")\n",
    "            return None\n",
    "    elif source == 'gemini':\n",
    "        try:\n",
    "            response = gemini.models.generate_content(\n",
    "                model=GEMINI_MODEL,\n",
    "                contents=f\"{system_prompt}\\n\\n{get_brochure_user_prompt(company_name, website, source, model)}\"\n",
    "            )\n",
    "\n",
    "            result = response.text\n",
    "            return result\n",
    "        except Exception as e:\n",
    "            print(f\"An error occurred during the API call: {e}\")\n",
    "            return None\n",
    "    else:\n",
    "        print(\"Source not supported\")"
   ]
  },
  {
   "cell_type": "code",
   "execution_count": null,
   "id": "18485f30",
   "metadata": {},
   "outputs": [],
   "source": [
    "display(Markdown(create_brochure(\"Hugging Face\", \"openai\", \"\", huggingface)))"
   ]
  },
  {
   "cell_type": "code",
   "execution_count": null,
   "id": "6a50592d",
   "metadata": {},
   "outputs": [],
   "source": [
    "display(Markdown(create_brochure(\"Hugging Face\", \"gemini\", \"\", huggingface)))"
   ]
  },
  {
   "cell_type": "code",
   "execution_count": null,
   "id": "f98dd900",
   "metadata": {},
   "outputs": [],
   "source": [
    "import google.generativeai as genai\n",
    "from google.generativeai import GenerativeModel\n",
    "\n",
    "def create_brochure_stream(company_name: str, source: str, model: str, website, stream: bool = True):\n",
    "    if source == 'ollama':\n",
    "        model_to_use = model if model else OLLAMA_MODEL\n",
    "        try:\n",
    "            response_stream = ollama.chat(\n",
    "                model=model_to_use,\n",
    "                messages=[\n",
    "                    {\"role\":\"system\", \"content\": system_prompt},\n",
    "                    {\"role\": \"user\", \"content\": get_brochure_user_prompt(company_name, website, source, model)}\n",
    "                ],\n",
    "                stream=stream\n",
    "            )\n",
    "\n",
    "            if stream:\n",
    "                full_response = \"\"\n",
    "                display_handle = display(Markdown(\"\"), display_id=True)\n",
    "\n",
    "                for chunk in response_stream:\n",
    "                    if 'message' in chunk and 'content' in chunk['message']:\n",
    "                        chunk_content = chunk['message']['content']\n",
    "                        full_response += chunk_content\n",
    "                        update_display(Markdown(full_response), display_id=display_handle.display_id)\n",
    "            else:\n",
    "                return response_stream['message']['content']\n",
    "\n",
    "        except Exception as e:\n",
    "            print(f\"An error occurred during the Ollama API call: {e}\")\n",
    "            return None\n",
    "\n",
    "    elif source == 'openai':\n",
    "        model_to_use = model if model else OPENAI_MODEL\n",
    "        print(f\"Using OpenAI model: {model_to_use}\\n\")\n",
    "        try:\n",
    "            response_stream = openai.chat.completions.create(\n",
    "                model=model_to_use,\n",
    "                messages=[\n",
    "                    {\"role\":\"system\", \"content\": system_prompt},\n",
    "                    {\"role\": \"user\", \"content\": get_brochure_user_prompt(company_name, website, source, model)}\n",
    "                ],\n",
    "                stream=stream\n",
    "            )\n",
    "\n",
    "            if stream:\n",
    "                full_response = \"\"\n",
    "                display_handle = display(Markdown(\"\"), display_id=True)\n",
    "\n",
    "                for chunk in response_stream:\n",
    "                    if chunk.choices[0].delta.content is not None:\n",
    "                        chunk_content = chunk.choices[0].delta.content\n",
    "                        full_response += chunk_content\n",
    "                        update_display(Markdown(full_response), display_id=display_handle.display_id)\n",
    "            else:\n",
    "                return response_stream.choices[0].message.content\n",
    "\n",
    "        except Exception as e:\n",
    "            print(f\"An error occurred during the OpenAI API call: {e}\")\n",
    "            return None\n",
    "\n",
    "    elif source == 'gemini':\n",
    "        model_to_use = model if model else GEMINI_MODEL\n",
    "        print(f\"Using Gemini model: {model_to_use}\\n\")\n",
    "        try:\n",
    "            genai.configure(api_key=gemini_api_key)\n",
    "            model_instance = GenerativeModel(\n",
    "                model_to_use,\n",
    "                system_instruction=system_prompt\n",
    "            )\n",
    "            # prompt = f\"System Prompt: {system_prompt}\\n\\nUser Prompt: {}.\"\n",
    "\n",
    "            response_stream = model_instance.generate_content(\n",
    "                contents=get_brochure_user_prompt(company_name, website, source, model),\n",
    "                stream=stream\n",
    "            )\n",
    "\n",
    "            if stream:\n",
    "                full_response = \"\"\n",
    "                display_handle = display(Markdown(\"\"), display_id=True)\n",
    "\n",
    "                for chunk in response_stream:\n",
    "                    full_response += chunk.text\n",
    "                    update_display(Markdown(full_response), display_id=display_handle.display_id)\n",
    "            else:\n",
    "                return response_stream.text\n",
    "\n",
    "        except Exception as e:\n",
    "            print(f\"An error occurred during the Gemini API call: {e}\")\n",
    "            return None\n",
    "\n",
    "    else:\n",
    "        print(\"Source not supported\")\n",
    "        return None"
   ]
  },
  {
   "cell_type": "code",
   "execution_count": null,
   "id": "be052a8b",
   "metadata": {},
   "outputs": [],
   "source": [
    "create_brochure_stream(\"Hugging Face\", \"gemini\", \"\", huggingface, True)"
   ]
  },
  {
   "cell_type": "code",
   "execution_count": null,
   "id": "ef90649c",
   "metadata": {},
   "outputs": [],
   "source": [
    "create_brochure_stream(\"Hugging Face\", \"openai\", \"\", huggingface, True)"
   ]
  },
  {
   "cell_type": "code",
   "execution_count": null,
   "id": "d28816ee",
   "metadata": {},
   "outputs": [],
   "source": [
    "def translate_brochure(brochure_content: str, language: str):\n",
    "    translation_system_prompt = f\"\"\"You are a {language} language translation expert. Given the content of a brochure, your task is to provide the translated version of that brochure in the {language} language.\"\"\"\n",
    "    user_prompt = f\"\"\"Translate this text into {language}: \\n {brochure_content}\"\"\"\n",
    "    \n",
    "    res = openai.chat.completions.create(\n",
    "        model=OPENAI_MODEL,\n",
    "        messages=[\n",
    "            {\"role\":\"system\",\"content\": translation_system_prompt},\n",
    "            {\"role\":\"user\", \"content\": user_prompt}\n",
    "        ],\n",
    "        stream=True \n",
    "    )\n",
    "\n",
    "\n",
    "    response = \"\"\n",
    "    display_handle = display(Markdown(\"\"), display_id=True)\n",
    "    for chunk in res:\n",
    "        response += chunk.choices[0].delta.content or ''\n",
    "        response = response.replace(\"```\",\"\").replace(\"markdown\", \"\")\n",
    "        update_display(Markdown(response), display_id=display_handle.display_id)"
   ]
  },
  {
   "cell_type": "code",
   "execution_count": 33,
   "id": "041747ad",
   "metadata": {},
   "outputs": [],
   "source": [
    "brochure_content = create_brochure(\"Hugging Face\", \"openai\", \"\", huggingface)"
   ]
  },
  {
   "cell_type": "code",
   "execution_count": 36,
   "id": "6be2f591",
   "metadata": {},
   "outputs": [],
   "source": [
    "translate_brochure(brochure_content, \"Hindi\")"
   ]
  },
  {
   "cell_type": "code",
   "execution_count": null,
   "id": "383c71ce",
   "metadata": {},
   "outputs": [],
   "source": []
  }
 ],
 "metadata": {
  "kernelspec": {
   "display_name": "llms",
   "language": "python",
   "name": "python3"
  },
  "language_info": {
   "codemirror_mode": {
    "name": "ipython",
    "version": 3
   },
   "file_extension": ".py",
   "mimetype": "text/x-python",
   "name": "python",
   "nbconvert_exporter": "python",
   "pygments_lexer": "ipython3",
   "version": "3.11.13"
  }
 },
 "nbformat": 4,
 "nbformat_minor": 5
}
