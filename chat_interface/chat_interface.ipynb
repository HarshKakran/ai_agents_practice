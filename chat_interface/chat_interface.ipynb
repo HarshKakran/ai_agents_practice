{
 "cells": [
  {
   "cell_type": "code",
   "execution_count": null,
   "id": "d2589f1b",
   "metadata": {},
   "outputs": [],
   "source": [
    "# imports\n",
    "\n",
    "import os\n",
    "from dotenv import load_dotenv\n",
    "from openai import OpenAI\n",
    "import gradio as gr\n",
    "from google import genai\n",
    "from google.generativeai import GenerativeModel"
   ]
  },
  {
   "cell_type": "code",
   "execution_count": null,
   "id": "1e355e9a",
   "metadata": {},
   "outputs": [],
   "source": [
    "# Load environment variables in a file called .env\n",
    "# Print the key prefixes to help with any debugging\n",
    "\n",
    "load_dotenv(override=True)\n",
    "openai_api_key = os.getenv('OPENAI_API_KEY')\n",
    "anthropic_api_key = os.getenv('ANTHROPIC_API_KEY')\n",
    "google_api_key = os.getenv('GOOGLE_API_KEY')\n",
    "\n",
    "if openai_api_key:\n",
    "    print(f\"OpenAI API Key exists and begins {openai_api_key[:8]}\")\n",
    "else:\n",
    "    print(\"OpenAI API Key not set\")\n",
    "    \n",
    "if anthropic_api_key:\n",
    "    print(f\"Anthropic API Key exists and begins {anthropic_api_key[:7]}\")\n",
    "else:\n",
    "    print(\"Anthropic API Key not set\")\n",
    "\n",
    "if google_api_key:\n",
    "    print(f\"Google API Key exists and begins {google_api_key[:8]}\")\n",
    "else:\n",
    "    print(\"Google API Key not set\")"
   ]
  },
  {
   "cell_type": "code",
   "execution_count": null,
   "id": "2c7b6a65",
   "metadata": {},
   "outputs": [],
   "source": [
    "openai = OpenAI()\n",
    "gemini = genai.Client(api_key = google_api_key)\n",
    "\n",
    "OPENAI_MODEL = 'gpt-4o-mini'\n",
    "GEMINI_MODEL = 'gemini-2.0-flash' \n",
    "OLLAMA_MODEL = 'llama3.2'"
   ]
  },
  {
   "cell_type": "code",
   "execution_count": null,
   "id": "302192db",
   "metadata": {},
   "outputs": [],
   "source": [
    "system_message = \"You are a helpful assistant\""
   ]
  },
  {
   "cell_type": "code",
   "execution_count": null,
   "id": "0c2c1027",
   "metadata": {},
   "outputs": [],
   "source": [
    "def chat_gpt(message, history):\n",
    "    prompt = [\n",
    "        {\"role\":\"system\", \"content\": system_message},\n",
    "    ] + history + [\n",
    "        {\"role\": \"user\", \"content\": message}\n",
    "    ]\n",
    "\n",
    "    print(\"History is: \", history)\n",
    "    print(\"User message is: \", message)\n",
    "    print(\"Prompt is: \", prompt)\n",
    "\n",
    "    try:\n",
    "        response = openai.chat.completions.create(\n",
    "            model=OPENAI_MODEL,\n",
    "            messages=prompt,\n",
    "            stream=True\n",
    "        )\n",
    "\n",
    "        result = \"\"\n",
    "        for chunk in response:\n",
    "            result += chunk.choices[0].delta.content or \"\"\n",
    "            yield result\n",
    "    except Exception as e:\n",
    "        print(f\"An error occurred during the API call: {e}\")\n",
    "        return None\n",
    "    "
   ]
  },
  {
   "cell_type": "code",
   "execution_count": null,
   "id": "bed1849d",
   "metadata": {},
   "outputs": [],
   "source": [
    "gr.ChatInterface(fn=chat_gpt, type=\"messages\").launch()"
   ]
  },
  {
   "cell_type": "code",
   "execution_count": null,
   "id": "ae818261",
   "metadata": {},
   "outputs": [],
   "source": [
    "def chat_gemini(message, history):\n",
    "    prompt = [] \n",
    "    \n",
    "    for his in history:\n",
    "        if his[\"role\"] == \"assistant\":\n",
    "            prompt += [\n",
    "                {\"role\": \"model\", \"parts\": [{\"text\":his[\"content\"]}]}\n",
    "            ]\n",
    "        elif his[\"role\"] == \"user\":\n",
    "            prompt  += [\n",
    "                {\"role\": \"user\", \"parts\": [{\"text\":his[\"content\"]}]}\n",
    "            ]\n",
    "    \n",
    "    prompt  += [\n",
    "        {\"role\": \"user\", \"parts\": [{\"text\":message}]}\n",
    "    ]\n",
    "\n",
    "    print(\"History is: \", history)\n",
    "    print(\"User message is: \", message)\n",
    "    print(\"Prompt is: \", prompt)\n",
    "\n",
    "    try:\n",
    "        model_instance = GenerativeModel(\n",
    "                GEMINI_MODEL,\n",
    "                system_instruction=system_message\n",
    "        )\n",
    "\n",
    "        response_stream = model_instance.generate_content(\n",
    "            contents=prompt,\n",
    "            stream=True\n",
    "        )\n",
    "\n",
    "        full_response = \"\"\n",
    "\n",
    "        for chunk in response_stream:\n",
    "            full_response += chunk.text\n",
    "            yield full_response\n",
    "    except Exception as e:\n",
    "            print(f\"An error occurred during the Gemini API call: {e}\")\n",
    "            return None"
   ]
  },
  {
   "cell_type": "code",
   "execution_count": null,
   "id": "b35b7925",
   "metadata": {},
   "outputs": [],
   "source": [
    "gr.ChatInterface(fn=chat_gemini, type=\"messages\").launch(inbrowser=True)"
   ]
  },
  {
   "cell_type": "code",
   "execution_count": null,
   "id": "5106f7b1",
   "metadata": {},
   "outputs": [],
   "source": []
  }
 ],
 "metadata": {
  "kernelspec": {
   "display_name": "llms",
   "language": "python",
   "name": "python3"
  },
  "language_info": {
   "codemirror_mode": {
    "name": "ipython",
    "version": 3
   },
   "file_extension": ".py",
   "mimetype": "text/x-python",
   "name": "python",
   "nbconvert_exporter": "python",
   "pygments_lexer": "ipython3",
   "version": "3.11.13"
  }
 },
 "nbformat": 4,
 "nbformat_minor": 5
}
